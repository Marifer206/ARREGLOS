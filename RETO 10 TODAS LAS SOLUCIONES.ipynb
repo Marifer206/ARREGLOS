{
 "cells": [
  {
   "attachments": {},
   "cell_type": "markdown",
   "metadata": {},
   "source": [
    "EJERCICIO # 1.1"
   ]
  },
  {
   "cell_type": "code",
   "execution_count": 3,
   "metadata": {},
   "outputs": [
    {
     "name": "stdout",
     "output_type": "stream",
     "text": [
      "[1, 2, 3]\n"
     ]
    }
   ],
   "source": [
    "lista = [3, 1, 2]\n",
    "lista.sort()\n",
    "print(lista)  # Imprime: [1, 2, 3]"
   ]
  },
  {
   "attachments": {},
   "cell_type": "markdown",
   "metadata": {},
   "source": [
    "EJERCICIO # 1.2"
   ]
  },
  {
   "cell_type": "code",
   "execution_count": null,
   "metadata": {},
   "outputs": [],
   "source": [
    "lista = [3, 1, 2]\n",
    "lista_ordenada = sorted(lista)\n",
    "print(lista_ordenada)  # Imprime: [1, 2, 3]\n",
    "print(lista)  # Imprime: [3, 1, 2] (la lista original no ha sido modificada)"
   ]
  },
  {
   "attachments": {},
   "cell_type": "markdown",
   "metadata": {},
   "source": [
    "PUNTO # 1"
   ]
  },
  {
   "cell_type": "code",
   "execution_count": 15,
   "metadata": {},
   "outputs": [
    {
     "name": "stdout",
     "output_type": "stream",
     "text": [
      "El promedio de[7.0, 8.0, 4.0, 5.0, 1.0, 2.0, 3.0, 6.0, 9.0] es: 5.0\n"
     ]
    }
   ],
   "source": [
    "# Pedir al usuario que ingrese los números separados por espacios\n",
    "l = input(\"Ingrese los números separados por espacios: \")\n",
    "# Convertir la l en una lista de números reales y se utiliza el split para dividir los numeros de manera individual\n",
    "numeros = [float(i) for i in l.split()]\n",
    "# Calcular la suma de los elementos en la lista numeros\n",
    "suma = sum(numeros)\n",
    "# Calcular la cantidad de elementos en la lista numeros\n",
    "n = len(numeros)\n",
    "# Calcular el promedio\n",
    "promedio = suma / n\n",
    "\n",
    "# Imprimir el resultado\n",
    "print(\"El promedio de\" + str(numeros) + \" es: \" + str(promedio))\n"
   ]
  },
  {
   "attachments": {},
   "cell_type": "markdown",
   "metadata": {},
   "source": [
    "PUNTO # 2"
   ]
  },
  {
   "cell_type": "code",
   "execution_count": 1,
   "metadata": {},
   "outputs": [
    {
     "name": "stdout",
     "output_type": "stream",
     "text": [
      "El producto punto de [1, 2, 3, 4, 5] y [1, 2, 3, 4, 5] es: 55\n"
     ]
    }
   ],
   "source": [
    "# Definir una función para calcular el producto punto de dos arreglos de números enteros\n",
    "def producto_punto(arreglo1, arreglo2):\n",
    "    # Verificamos que los arreglos tengan el mismo tamaño\n",
    "    if len(arreglo1) != len(arreglo2):\n",
    "        return None\n",
    "    # Calculamos el producto punto\n",
    "    resultado = 0\n",
    "    for i in range(len(arreglo1)):\n",
    "        resultado += arreglo1[i] * arreglo2[i]\n",
    "    return resultado\n",
    "\n",
    "if __name__ == \"__main__\":\n",
    "    # Pedir al usuario que ingrese los números del primer arreglo y convertir la l en una lista de números enteros\n",
    "    l = input(\"Ingrese los números separados por espacios del primer arreglo: \")\n",
    "    arreglo1 = [int(i) for i in l.split()]\n",
    "    # Pedir al usuario que ingrese los números del segundo arreglo y convertir la n en una lista de números enteros\n",
    "    n = input(\"Ingrese los números separados por espacios: \")\n",
    "    arreglo2 = [int(i) for i in n.split()]\n",
    "    # Se llama a la funcion y toma como argumentos las listas previamente dadas por el usuario \n",
    "    resultado = producto_punto(arreglo1, arreglo2)\n",
    "    # Se imprime el resultado\n",
    "    if resultado is None:\n",
    "        print(\"Los arreglos no tienen el mismo tamaño.\")\n",
    "    else:\n",
    "        print(\"El producto punto de\", arreglo1, \"y\", arreglo2, \"es:\", resultado)\n"
   ]
  },
  {
   "attachments": {},
   "cell_type": "markdown",
   "metadata": {},
   "source": [
    "PUNTO # 3"
   ]
  },
  {
   "cell_type": "code",
   "execution_count": null,
   "metadata": {},
   "outputs": [
    {
     "name": "stdout",
     "output_type": "stream",
     "text": [
      "Arreglo original: [1, 0, 2, 5, 8, 0, 1, 4, 5, 0]\n",
      "Arreglo con ceros al final: [1, 2, 5, 8, 1, 4, 5, 0, 0, 0]\n"
     ]
    }
   ],
   "source": [
    "# Definir una función para mover los ceros al final de un arreglo de números\n",
    "def mover_ceros(arreglo):\n",
    "    # Creamos una lista para almacenar los ceros\n",
    "    ceros = []\n",
    "    # Inicializar variable i en 0\n",
    "    i = 0\n",
    "    # Se recorre la lista y se va agregando las caros que se encuentren \n",
    "    while i < len(arreglo): #  Mientras que i sea menor a la cantidad de numeros de la lista o arreglo  \n",
    "        if arreglo[i] == 0: # Se evalua cada elemento del arreglo\n",
    "            ceros.append(arreglo.pop(i)) # si es igual a cero se agrega a la lista ceros y se elimina de la original \n",
    "        else: # si no se le suma una unidad a i para ir llevando un control de iteraciones \n",
    "            i += 1\n",
    "    # Se agrega los ceros al final del arreglo y se devuelve \n",
    "    arreglo.extend(ceros)\n",
    "    return arreglo\n",
    "\n",
    "if __name__ == \"__main__\":\n",
    "    # Pedir al usuario que ingrese los números del arreglo y convertir la n en una lista de números enteros\n",
    "    n = input(\"Ingrese los números separados por espacios: \")\n",
    "    arreglo = [int(i) for i in n.split()]\n",
    "    #  Imprimir el arreglo original\n",
    "    print(\"Arreglo original:\" + str(arreglo))\n",
    "    # Se llama a la funcion y toma como argumento la lista previamente dada por el usuario \n",
    "    arreglo = mover_ceros(arreglo)\n",
    "    #  Imprimir el arreglo con los ceros al final\n",
    "    print(\"Arreglo con ceros al final:\" + str (arreglo))\n"
   ]
  },
  {
   "attachments": {},
   "cell_type": "markdown",
   "metadata": {},
   "source": [
    "PUNTO # 4"
   ]
  },
  {
   "cell_type": "code",
   "execution_count": null,
   "metadata": {},
   "outputs": [
    {
     "name": "stdout",
     "output_type": "stream",
     "text": [
      "Lista original:[3, 5, 7, 9, 8, 4, 2, 1, 6]\n",
      "Lista ordenada:[1, 2, 3, 4, 5, 6, 7, 8, 9]\n"
     ]
    }
   ],
   "source": [
    "# Definir el algoritmo bubble_sort \n",
    "def bubble_sort(lista):\n",
    "    # Inicializar n con la cantidad de elementos de la lista\n",
    "    n = len(lista)\n",
    "\n",
    "    # Pasar por todos los elementos de la lista excepto el último\n",
    "    for i in range(n - 1):\n",
    "        # Pasar por todos los elementos restantes en cada iteración\n",
    "        # El rango disminuye en cada iteración para evitar comparaciones innecesarias\n",
    "        for j in range(n - i - 1):\n",
    "            # Comparar dos elementos adyacentes\n",
    "            if lista[j] > lista[j + 1]:\n",
    "                # Intercambiar los elementos si están en el orden incorrecto\n",
    "                lista[j], lista[j + 1] = lista[j + 1], lista[j]\n",
    "\n",
    "# Pedir al usuario que ingrese los números del arreglo y convertir la n en una lista de números enteros\n",
    "n = input(\"Ingrese los números separados por espacios que quiera ordenar: \")\n",
    "numeros = [int(i) for i in n.split()]\n",
    "# Imprimir la lista original\n",
    "print(\"Lista original:\"+ str(numeros))\n",
    "# Llamar a la función bubble_sort para ordenar la lista\n",
    "bubble_sort(numeros)\n",
    "# Imprimir la lista ordenada\n",
    "print(\"Lista ordenada:\" + str(numeros))\n"
   ]
  },
  {
   "cell_type": "code",
   "execution_count": null,
   "metadata": {},
   "outputs": [],
   "source": []
  }
 ],
 "metadata": {
  "kernelspec": {
   "display_name": "Python 3",
   "language": "python",
   "name": "python3"
  },
  "language_info": {
   "codemirror_mode": {
    "name": "ipython",
    "version": 3
   },
   "file_extension": ".py",
   "mimetype": "text/x-python",
   "name": "python",
   "nbconvert_exporter": "python",
   "pygments_lexer": "ipython3",
   "version": "3.10.11"
  },
  "orig_nbformat": 4
 },
 "nbformat": 4,
 "nbformat_minor": 2
}
